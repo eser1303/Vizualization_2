{
  "nbformat": 4,
  "nbformat_minor": 0,
  "metadata": {
    "colab": {
      "name": "Vizualization_EF_CG.ipynb",
      "provenance": [],
      "collapsed_sections": [],
      "authorship_tag": "ABX9TyMNzJIAmrM5bp+w9L3eErmk",
      "include_colab_link": true
    },
    "kernelspec": {
      "name": "python3",
      "display_name": "Python 3"
    },
    "language_info": {
      "name": "python"
    }
  },
  "cells": [
    {
      "cell_type": "markdown",
      "metadata": {
        "id": "view-in-github",
        "colab_type": "text"
      },
      "source": [
        "<a href=\"https://colab.research.google.com/github/eser1303/Vizualization_2/blob/main/Vizualization_EF_CG.ipynb\" target=\"_parent\"><img src=\"https://colab.research.google.com/assets/colab-badge.svg\" alt=\"Open In Colab\"/></a>"
      ]
    },
    {
      "cell_type": "code",
      "metadata": {
        "id": "blbuVoHP8f6A"
      },
      "source": [
        "#!pip install wget\n",
        "#import wget\n",
        "import matplotlib.pyplot as plt\n",
        "import networkx as nx\n",
        "import array"
      ],
      "execution_count": 131,
      "outputs": []
    },
    {
      "cell_type": "code",
      "metadata": {
        "colab": {
          "base_uri": "https://localhost:8080/"
        },
        "id": "W2BJhtpM8nE7",
        "outputId": "1924efc0-7a2d-4da8-fed5-dcf04858a264"
      },
      "source": [
        "%cd /content/\n",
        "!ls \n",
        "!rm -r tree_exmp/\n",
        "!git clone https://github.com/eser1303/Vizualization_2 tree_exmp\n",
        "%cd tree_exmp/"
      ],
      "execution_count": 132,
      "outputs": [
        {
          "output_type": "stream",
          "text": [
            "/content\n",
            "sample_data  tree-10n.xml  tree-13n.xml\n",
            "rm: cannot remove 'tree_exmp/': No such file or directory\n",
            "Cloning into 'tree_exmp'...\n",
            "remote: Enumerating objects: 10, done.\u001b[K\n",
            "remote: Counting objects: 100% (10/10), done.\u001b[K\n",
            "remote: Compressing objects: 100% (8/8), done.\u001b[K\n",
            "remote: Total 10 (delta 1), reused 0 (delta 0), pack-reused 0\u001b[K\n",
            "Unpacking objects: 100% (10/10), done.\n",
            "/content/tree_exmp\n"
          ],
          "name": "stdout"
        }
      ]
    },
    {
      "cell_type": "code",
      "metadata": {
        "id": "nooEgBcC8wjE"
      },
      "source": [
        "def find_roots(G):\n",
        "   roots = []\n",
        "   nodes = list(G.nodes())\n",
        "   for i in nodes:\n",
        "      parent = list(G.predecessors(i))\n",
        "      if len(parent) == 0:\n",
        "         roots.append(i)\n",
        "   return roots\n",
        "\n",
        "def find_leaves(G):\n",
        "   leaves = []\n",
        "   nodes = list(G.nodes())\n",
        "   for i in nodes:\n",
        "      children = list(G.successors(i))\n",
        "      if len(children) == 0:\n",
        "         leaves.append(i)\n",
        "   return leaves\n",
        "\n",
        "def CG(G, active_nodes, used_nodes, node_num):\n",
        "   new_layer = []\n",
        "   parents_keys = {}\n",
        "   for i in active_nodes:\n",
        "      children = list(G.successors(i))\n",
        "      for j in children:\n",
        "         if (j not in active_nodes) and (j not in used_nodes):\n",
        "            new_layer.append(j)\n",
        "      parents = list(G.predecessors(i))\n",
        "      tmp = []\n",
        "      for j in parents: \n",
        "         tmp.append(node_num[j])\n",
        "      if len(tmp) == 0:\n",
        "         parents_keys[i] = sorted(tmp)\n",
        "      elif min(tmp) != -1:\n",
        "         parents_keys[i] = sorted(tmp)\n",
        "      else:\n",
        "         new_layer.append(i)\n",
        "   \n",
        "   sorted_keys = sorted(parents_keys, key = lambda k: (len(parents_keys[k]), parents_keys[k]))\n",
        "   #print(sorted_keys)\n",
        "   vals = []\n",
        "   for i in range(len(sorted_keys)):\n",
        "      vals.append(parents_keys[sorted_keys[i]])\n",
        "      used_nodes.append(sorted_keys[i])\n",
        "      node_num[sorted_keys[i]] = len(used_nodes)\n",
        "   #print(vals)\n",
        "   #print(parents)\n",
        "   if len(new_layer) > 0:\n",
        "      used_nodes, node_num = CG(G, new_layer, used_nodes, node_num)\n",
        "   return used_nodes, node_num\n",
        "\n",
        "def CG_W(G, node_num, active, used, w):\n",
        "   k = 0\n",
        "   last_k = -1\n",
        "   L = []\n",
        "   Lk = []\n",
        "   vert_lev = {}\n",
        "   #node_num = dict.fromkeys(list(G.nodes()), -1)\n",
        "   node_q = len(list(G.nodes()))\n",
        "   while len(used) < node_q:\n",
        "     new_layer = []\n",
        "     max_node = active[0]\n",
        "     for i in active:\n",
        "        children = list(G.successors(i))\n",
        "        flag = 0\n",
        "        for j in children:\n",
        "           if j not in used:\n",
        "              new_layer.append(i)\n",
        "              flag = 1\n",
        "        if flag == 0 and node_num[i] > node_num[max_node]:\n",
        "           max_node = i\n",
        "           parents = list(G.predecessors(i))\n",
        "           for j in parents:\n",
        "              new_layer.append(j)\n",
        "     children = list(G.successors(max_node))\n",
        "     max_k = -1\n",
        "     for i in children:\n",
        "        if vert_lev[i] > max_k:\n",
        "          max_k = vert_lev[i] \n",
        "     k = max_k\n",
        "     #print(max_node, k, last_k, L, vert_lev)\n",
        "     while max_node not in used and k < last_k:\n",
        "        k += 1\n",
        "        if len(L[k]) < w:\n",
        "           L[k].append(max_node)\n",
        "           used.append(max_node)  \n",
        "           vert_lev[max_node] = k   \n",
        "     if max_node not in used:\n",
        "        last_k += 1\n",
        "        Lk = []\n",
        "        Lk.append(max_node)\n",
        "        L.append(Lk)\n",
        "        used.append(max_node)\n",
        "        vert_lev[max_node] = last_k\n",
        "     for i in new_layer:\n",
        "        if i not in active:\n",
        "           active.append(i)\n",
        "     active.remove(max_node)\n",
        "   #L.reverse()\n",
        "   return L\n",
        "\n",
        "def map_to_posit(L, posit):\n",
        "   for i in range(len(L)):\n",
        "      for j in range(len(L[i])):\n",
        "         posit[L[i][j]] = array.array('d', [j, i])\n",
        "   return posit"
      ],
      "execution_count": 133,
      "outputs": []
    },
    {
      "cell_type": "code",
      "metadata": {
        "colab": {
          "base_uri": "https://localhost:8080/"
        },
        "id": "tx__Eoee83nS",
        "outputId": "125751d7-09f3-4863-b9d8-c1617e350dc4"
      },
      "source": [
        "filename = 'tree-13n.xml'\n",
        "G = nx.DiGraph()\n",
        "G = nx.read_graphml(filename)\n",
        "print(\"List of all nodes: \", list(G.nodes()))\n",
        "print(\"List of all edges: \", list(G.edges(data = True)))"
      ],
      "execution_count": 138,
      "outputs": [
        {
          "output_type": "stream",
          "text": [
            "List of all nodes:  ['n1', 'n2', 'n3', 'n4', 'n5', 'n6', 'n7', 'n8', 'n9', 'n10', 'n11', 'n12', 'n13']\n",
            "List of all edges:  [('n1', 'n3', {}), ('n1', 'n4', {}), ('n3', 'n5', {}), ('n3', 'n6', {}), ('n3', 'n8', {}), ('n3', 'n9', {}), ('n4', 'n7', {}), ('n4', 'n8', {}), ('n4', 'n10', {}), ('n5', 'n11', {}), ('n7', 'n9', {}), ('n8', 'n10', {}), ('n9', 'n12', {}), ('n10', 'n12', {}), ('n10', 'n11', {}), ('n11', 'n13', {}), ('n12', 'n13', {})]\n"
          ],
          "name": "stdout"
        }
      ]
    },
    {
      "cell_type": "code",
      "metadata": {
        "colab": {
          "base_uri": "https://localhost:8080/"
        },
        "id": "xQVWI4cWAtVN",
        "outputId": "3e66d4c8-3ebd-4b35-b6d2-5f4a77ab7d96"
      },
      "source": [
        "roots = find_roots(G)\n",
        "used_nodes = []\n",
        "node_num = dict.fromkeys(list(G.nodes()), -1)\n",
        "order, node_num = CG(G, roots, used_nodes, node_num)\n",
        "print(order)\n",
        "print(node_num)"
      ],
      "execution_count": 139,
      "outputs": [
        {
          "output_type": "stream",
          "text": [
            "['n1', 'n2', 'n3', 'n4', 'n5', 'n6', 'n7', 'n8', 'n9', 'n10', 'n11', 'n12', 'n13']\n",
            "{'n1': 1, 'n2': 2, 'n3': 3, 'n4': 4, 'n5': 5, 'n6': 6, 'n7': 7, 'n8': 8, 'n9': 9, 'n10': 10, 'n11': 11, 'n12': 12, 'n13': 13}\n"
          ],
          "name": "stdout"
        }
      ]
    },
    {
      "cell_type": "code",
      "metadata": {
        "colab": {
          "base_uri": "https://localhost:8080/"
        },
        "id": "TYwDqlcOEKUx",
        "outputId": "bc3d3405-da9d-4a9f-c6b6-b4aa806868de"
      },
      "source": [
        "w = 3\n",
        "used = []\n",
        "leaves = find_leaves(G)\n",
        "L = CG_W(G, node_num, leaves, used, w)\n",
        "for x in L: print(x)\n",
        "posit = dict.fromkeys(list(G.nodes()))\n",
        "posit = map_to_posit(L, posit)"
      ],
      "execution_count": 140,
      "outputs": [
        {
          "output_type": "stream",
          "text": [
            "['n13', 'n6', 'n2']\n",
            "['n12', 'n11']\n",
            "['n10', 'n9', 'n5']\n",
            "['n8', 'n7']\n",
            "['n4', 'n3']\n",
            "['n1']\n"
          ],
          "name": "stdout"
        }
      ]
    },
    {
      "cell_type": "code",
      "metadata": {
        "colab": {
          "base_uri": "https://localhost:8080/",
          "height": 683
        },
        "id": "-lV6jxOw84Uz",
        "outputId": "0c6275b0-9b90-4dae-a1fd-a33239ac5d40"
      },
      "source": [
        "plt.figure(1,figsize=(12,12)) \n",
        "nx.draw_networkx(G,pos = posit)\n",
        "plt.show()"
      ],
      "execution_count": 141,
      "outputs": [
        {
          "output_type": "display_data",
          "data": {
            "image/png": "[encoded data removed]",
            "text/plain": [
              "<Figure size 864x864 with 1 Axes>"
            ]
          },
          "metadata": {
            "tags": []
          }
        }
      ]
    },
    {
      "cell_type": "code",
      "metadata": {
        "id": "PPwl64wfTmWd"
      },
      "source": [
        ""
      ],
      "execution_count": null,
      "outputs": []
    }
  ]
}